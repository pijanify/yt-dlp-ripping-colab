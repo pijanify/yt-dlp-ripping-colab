{
  "nbformat": 4,
  "nbformat_minor": 0,
  "metadata": {
    "colab": {
      "name": "Ripping-On-The-Go-v2.ipynb",
      "provenance": [],
      "authorship_tag": "ABX9TyNSP5OMXb1K5W3NnhFXIRvp",
      "include_colab_link": true
    },
    "kernelspec": {
      "name": "python3",
      "display_name": "Python 3"
    },
    "language_info": {
      "name": "python"
    }
  },
  "cells": [
    {
      "cell_type": "markdown",
      "metadata": {
        "id": "view-in-github",
        "colab_type": "text"
      },
      "source": [
        "<a href=\"https://colab.research.google.com/github/pijanify/yt-dlp-ripping-colab/blob/main/Ripping_On_The_Go_v2.ipynb\" target=\"_parent\"><img src=\"https://colab.research.google.com/assets/colab-badge.svg\" alt=\"Open In Colab\"/></a>"
      ]
    },
    {
      "cell_type": "markdown",
      "source": [
        "#__1. Mount GDrive to /content/drive__"
      ],
      "metadata": {
        "id": "Z6Cgq_89fKiz"
      }
    },
    {
      "cell_type": "code",
      "execution_count": null,
      "metadata": {
        "cellView": "form",
        "id": "cQLiEZvKfC38"
      },
      "outputs": [],
      "source": [
        "#@markdown <br><img src='https://upload.wikimedia.org/wikipedia/commons/thumb/d/da/Google_Drive_logo.png/600px-Google_Drive_logo.png' height=\"50\" alt=\"Gdrive-logo\"/></center>\n",
        "#@markdown <h3>Mount GDrive to /content/drive</h3><br>\n",
        "MODE = \"MOUNT\" #@param [\"MOUNT\", \"UNMOUNT\"]\n",
        "#Mount your Gdrive! \n",
        "from google.colab import drive\n",
        "drive.mount._DEBUG = False\n",
        "if MODE == \"MOUNT\":\n",
        "  drive.mount('/content/drive', force_remount=True)\n",
        "elif MODE == \"UNMOUNT\":\n",
        "  try:\n",
        "    drive.flush_and_unmount()\n",
        "  except ValueError:\n",
        "    pass\n",
        "  get_ipython().system_raw(\"rm -rf /root/.config/Google/DriveFS\")"
      ]
    },
    {
      "cell_type": "markdown",
      "source": [
        "#__2. Install yt-dlp dan mp4decrypt__"
      ],
      "metadata": {
        "id": "GDThXIs6fRBs"
      }
    },
    {
      "cell_type": "code",
      "source": [
        "#@markdown <h1><-- Klik butang ni untuk install automatik<br></h1>\n",
        "!sudo curl -L https://github.com/yt-dlp/yt-dlp/releases/latest/download/yt-dlp -o /usr/local/bin/yt-dlp\n",
        "!sudo chmod a+rx /usr/local/bin/yt-dlp\n",
        "!sudo curl -L https://github.com/pijanify/yt-dlp-ripping-colab/releases/download/v1.0/mp4encrypt -o /usr/local/bin/mp4decrypt\n",
        "!sudo chmod a+rx /usr/local/bin/mp4decrypt"
      ],
      "metadata": {
        "cellView": "form",
        "id": "eYk4tP5VfUR5"
      },
      "execution_count": null,
      "outputs": []
    },
    {
      "cell_type": "markdown",
      "source": [
        "#__3. Sedia untuk ripping__"
      ],
      "metadata": {
        "id": "NBe9MWcsfX5z"
      }
    },
    {
      "cell_type": "code",
      "source": [
        "#@markdown <h1>Extract MPD manifest info <br></h1>\n",
        "#@markdown Masukkan detail dibawah:</center>\n",
        "\n",
        "MPD_URL = 'https://link.com/manifest.mpd' #@param {type:\"string\"}\n",
        "!python /usr/local/bin/yt-dlp \"{MPD_URL}\" -F --allow-unplayable-formats\n"
      ],
      "metadata": {
        "cellView": "form",
        "id": "RqLYC-08faXT"
      },
      "execution_count": null,
      "outputs": []
    },
    {
      "cell_type": "code",
      "source": [
        "#@markdown <h1>Download manifest<br></h1>\n",
        "#@markdown Masukkan detail dibawah:</center>\n",
        "\n",
        "MPD = 'https://link-com/manifest.mpd' #@param {type:\"string\"}\n",
        "FileName = 'filename.extension (Check output MPD manifest, mp4 untuk video, .aac untuk audio, .eac3 untuk DD' #@param {type:\"string\"}\n",
        "OutputPath = 'Tempat simpan output dalam Google Drive anda, biasanya root director adalah /content/drive/MyDrive/' #@param {type:\"string\"}\n",
        "Codec = 'video_avc1_1 @ audio_ENG_mp4a_1 @ audio_DOLBY_ec-3 (Pilih ikut pada manifest - Kena download video codec dan audio codec setiap command)' #@param {type:\"string\"}\n",
        "\n",
        "!python /usr/local/bin/yt-dlp --allow-unplayable-formats -f {Codec} {MPD} -o {FileName} --path \"{OutputPath}\""
      ],
      "metadata": {
        "cellView": "form",
        "id": "DOGlHPdiffvy"
      },
      "execution_count": null,
      "outputs": []
    },
    {
      "cell_type": "markdown",
      "source": [
        "#__4. Merging video+audio...Bersambung...in development__"
      ],
      "metadata": {
        "id": "y9KieZQzfj88"
      }
    }
  ]
}