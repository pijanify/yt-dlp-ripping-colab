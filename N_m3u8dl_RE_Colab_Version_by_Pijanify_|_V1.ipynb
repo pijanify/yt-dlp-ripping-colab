{
  "nbformat": 4,
  "nbformat_minor": 0,
  "metadata": {
    "colab": {
      "provenance": [],
      "authorship_tag": "ABX9TyNWQslyaNVluiN3PC8UGV7p",
      "include_colab_link": true
    },
    "kernelspec": {
      "name": "python3",
      "display_name": "Python 3"
    },
    "language_info": {
      "name": "python"
    }
  },
  "cells": [
    {
      "cell_type": "markdown",
      "metadata": {
        "id": "view-in-github",
        "colab_type": "text"
      },
      "source": [
        "<a href=\"https://colab.research.google.com/github/pijanify/yt-dlp-ripping-colab/blob/main/N_m3u8dl_RE_Colab_Version_by_Pijanify_%7C_V1.ipynb\" target=\"_parent\"><img src=\"https://colab.research.google.com/assets/colab-badge.svg\" alt=\"Open In Colab\"/></a>"
      ]
    },
    {
      "cell_type": "markdown",
      "source": [
        "# **<font color='red'> N_m3u8dl-RE Colab Version - Created by [Pijanify](https://github.com/pijanify) </font>**\n",
        "*V1.0*\n",
        "\n",
        "\n",
        "```\n",
        "# FOR RIPPING ON TONTON.COM.MY\n",
        "```\n",
        "\n",
        "\n",
        "## **<font color=\"red\">Important note</font> - After doing all the steps, please note that depending on your file size of the mp4 @ mkv files, it may take a while to show up in your Google Drive. Please be patient. Eventually, it will show up in your drive.**\n",
        "###**<font color=\"red\">For larger files</font> - it may take some time to show up in your Google Drive. Do not rerun the code if it doesn't show up fast. Just keep refreshing your Google Drive page to see if it shows up**\n",
        "###**<font color=\"red\">For small files</font> - it will show up quicker in your Google Drive. Just wait until it shows up. Just keep refreshing your page to see if it shows up**\n",
        "\n"
      ],
      "metadata": {
        "id": "wjpR7runLj4S"
      }
    },
    {
      "cell_type": "code",
      "execution_count": null,
      "metadata": {
        "cellView": "form",
        "id": "o-_KTlGpE06z"
      },
      "outputs": [],
      "source": [
        "#@title Mount and install tools\n",
        "from IPython.display import clear_output\n",
        "from google.colab import drive\n",
        "drive.mount('/content/drive')\n",
        "!sudo apt update;sudo apt install curl\n",
        "!sudo curl -L https://github.com/pijanify/AOTG-Toolkit/raw/main/bin/m3u8dl -o /usr/local/bin/m3u8dl\n",
        "!sudo chmod a+rx /usr/local/bin/m3u8dl\n",
        "!sudo curl -L https://github.com/pijanify/yt-dlp-ripping-colab/releases/download/v1.1/mp4decrypt -o /usr/local/bin/mp4decrypt\n",
        "!sudo chmod a+rx /usr/local/bin/mp4decrypt\n",
        "!sudo apt install ffmpeg\n",
        "!sudo apt -y install aria2\n",
        "clear_output()\n",
        "print(\"Success!\")"
      ]
    },
    {
      "cell_type": "markdown",
      "source": [
        "## **<font color=\"red\">Important note</font>**\n",
        "Default extension is \"MKV\". If you prefer \"MP4\", please edit the code before run the script."
      ],
      "metadata": {
        "id": "LXm2NOJiMn5a"
      }
    },
    {
      "cell_type": "code",
      "source": [
        "#@title Download\n",
        "FILE_NAME = \"1080p.TONTON.WEB-DL.AAC.H264-NOGRP\" #@param {type:\"string\"}\n",
        "LINK_FILE = \"\" #@param {type:\"string\"}\n",
        "FILE_NAME2 = \"1080p.TONTON.WEB-DL.AAC.H264-NOGRP\" #@param {type:\"string\"}\n",
        "LINK_FILE2 = \"\" #@param {type:\"string\"}\n",
        "FILE_NAME3 = \"1080p.TONTON.WEB-DL.AAC.H264-NOGRP\" #@param {type:\"string\"}\n",
        "LINK_FILE3 = \"\" #@param {type:\"string\"}\n",
        "FILE_NAME4 = \"1080p.TONTON.WEB-DL.AAC.H264-NOGRP\" #@param {type:\"string\"}\n",
        "LINK_FILE4 = \"\" #@param {type:\"string\"}\n",
        "FILE_NAME5 = \"1080p.TONTON.WEB-DL.AAC.H264-NOGRP\" #@param {type:\"string\"}\n",
        "LINK_FILE5 = \"\" #@param {type:\"string\"}\n",
        "FILE_NAME6 = \"1080p.TONTON.WEB-DL.AAC.H264-NOGRP\" #@param {type:\"string\"}\n",
        "LINK_FILE6 = \"\" #@param {type:\"string\"}\n",
        "FILE_NAME7 = \"1080p.TONTON.WEB-DL.AAC.H264-NOGRP\" #@param {type:\"string\"}\n",
        "LINK_FILE7 = \"\" #@param {type:\"string\"}\n",
        "FILE_NAME8 = \"1080p.TONTON.WEB-DL.AAC.H264-NOGRP\" #@param {type:\"string\"}\n",
        "LINK_FILE8 = \"\" #@param {type:\"string\"}\n",
        "FILE_NAME9 = \"1080p.TONTON.WEB-DL.AAC.H264-NOGRP\" #@param {type:\"string\"}\n",
        "LINK_FILE9 = \"\" #@param {type:\"string\"}\n",
        "FILE_NAME10 = \"1080p.TONTON.WEB-DL.AAC.H264-NOGRP\" #@param {type:\"string\"}\n",
        "LINK_FILE10 = \"\" #@param {type:\"string\"}\n",
        "#@markdown Path support Google Drive dan SharedDrive @ Team Drive (/content/drive/Shareddrives/OUTPUT)\n",
        "PATH = \"/content/drive/MyDrive\" #@param {type:\"string\"}\n",
        "print(\"Downloading.....\")\n",
        "!m3u8dl \"{LINK_FILE}\" --save-name \"{FILE_NAME}\" -M mkv --save-dir \"{PATH}\" -sv best -sa best\n",
        "!m3u8dl \"{LINK_FILE2}\" --save-name \"{FILE_NAME2}\" -M mkv --save-dir \"{PATH}\" -sv best -sa best\n",
        "!m3u8dl \"{LINK_FILE3}\" --save-name \"{FILE_NAME3}\" -M mkv --save-dir \"{PATH}\" -sv best -sa best\n",
        "!m3u8dl \"{LINK_FILE4}\" --save-name \"{FILE_NAME4}\" -M mkv --save-dir \"{PATH}\" -sv best -sa best\n",
        "!m3u8dl \"{LINK_FILE5}\" --save-name \"{FILE_NAME5}\" -M mkv --save-dir \"{PATH}\" -sv best -sa best\n",
        "!m3u8dl \"{LINK_FILE6}\" --save-name \"{FILE_NAME6}\" -M mkv --save-dir \"{PATH}\" -sv best -sa best\n",
        "!m3u8dl \"{LINK_FILE7}\" --save-name \"{FILE_NAME7}\" -M mkv --save-dir \"{PATH}\" -sv best -sa best\n",
        "!m3u8dl \"{LINK_FILE8}\" --save-name \"{FILE_NAME8}\" -M mkv --save-dir \"{PATH}\" -sv best -sa best\n",
        "!m3u8dl \"{LINK_FILE9}\" --save-name \"{FILE_NAME9}\" -M mkv --save-dir \"{PATH}\" -sv best -sa best\n",
        "!m3u8dl \"{LINK_FILE10}\" --save-name \"{FILE_NAME10}\" -M mkv --save-dir \"{PATH}\" -sv best -sa best\n",
        "print(\"Done!\")"
      ],
      "metadata": {
        "cellView": "form",
        "id": "ScYddXziFlk-"
      },
      "execution_count": null,
      "outputs": []
    }
  ]
}