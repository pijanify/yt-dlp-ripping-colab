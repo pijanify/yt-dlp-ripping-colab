{
  "nbformat": 4,
  "nbformat_minor": 0,
  "metadata": {
    "colab": {
      "name": "ROTGSeries v5.9",
      "provenance": [],
      "collapsed_sections": [],
      "authorship_tag": "ABX9TyN5FheOVZPh6t5OItuQrvMB",
      "include_colab_link": true
    },
    "kernelspec": {
      "name": "python3",
      "display_name": "Python 3"
    },
    "language_info": {
      "name": "python"
    }
  },
  "cells": [
    {
      "cell_type": "markdown",
      "metadata": {
        "id": "view-in-github",
        "colab_type": "text"
      },
      "source": [
        "<a href=\"https://colab.research.google.com/github/sooka-tv/sooka-tv.github.io/blob/main/ROTGSeries_v5_9.ipynb\" target=\"_parent\"><img src=\"https://colab.research.google.com/assets/colab-badge.svg\" alt=\"Open In Colab\"/></a>"
      ]
    },
    {
      "cell_type": "markdown",
      "source": [
        "# **<font color='red'> Ripping On The GO v5.9 - Created by [Pijanify](https://github.com/pijanify) </font>**\n"
      ],
      "metadata": {
        "id": "vNzx63-oCvNb"
      }
    },
    {
      "cell_type": "markdown",
      "source": [
        "## **<font color=\"red\">Important note</font> - After doing all the steps, please note that depending on your file size of the mp4 @ mkv files, it may take a while to show up in your Google Drive. Please be patient. Eventually, it will show up in your drive.**\n",
        "###**<font color=\"red\">For larger files</font> - it may take some time to show up in your Google Drive. Do not rerun the code if it doesn't show up fast. Just keep refreshing your Google Drive page to see if it shows up**\n",
        "###**<font color=\"red\">For small files</font> - it will show up quicker in your Google Drive. Just wait until it shows up. Just keep refreshing your page to see if it shows up**\n",
        "###**<font color=\"red\">Update</font> -**\n",
        "* Specifically for drama/series downloader.\n",
        "* Bulk downloader (up to 5 max downloading at same time)"
      ],
      "metadata": {
        "id": "7PooBzY6C8dR"
      }
    },
    {
      "cell_type": "markdown",
      "source": [
        "#__Mount Google Drive & Install ripping tools__"
      ],
      "metadata": {
        "id": "jNBfJlmmDnar"
      }
    },
    {
      "cell_type": "code",
      "execution_count": null,
      "metadata": {
        "cellView": "form",
        "id": "4aE55sHvCZTQ"
      },
      "outputs": [],
      "source": [
        "#@title Click \"Play\" button to start installation\n",
        "from google.colab import drive\n",
        "drive.mount('/content/drive')\n",
        "print(\"Mounted!\")\n",
        "from IPython.display import clear_output \n",
        "!sudo apt update\n",
        "!sudo curl -L https://github.com/yt-dlp/yt-dlp/releases/latest/download/yt-dlp -o /usr/local/bin/yt-dlp\n",
        "!sudo chmod a+rx /usr/local/bin/yt-dlp\n",
        "!sudo curl -L https://github.com/pijanify/yt-dlp-ripping-colab/releases/download/v1.1/mp4decrypt -o /usr/local/bin/mp4decrypt\n",
        "!sudo chmod a+rx /usr/local/bin/mp4decrypt\n",
        "!sudo apt install ffmpeg\n",
        "!sudo apt -y install aria2\n",
        "clear_output()\n",
        "print(\"Install successful\")"
      ]
    },
    {
      "cell_type": "markdown",
      "source": [
        "#__1-CLICK RIPPING__"
      ],
      "metadata": {
        "id": "-I5IyyZiE5OT"
      }
    },
    {
      "cell_type": "code",
      "source": [
        "#@markdown <h2>Extract manifest info</h2>\n",
        "MPD_URL_1 = '' #@param {type:\"string\"}\n",
        "!yt-dlp --no-warnings --allow-u -F \"{MPD_URL_1}\"\n",
        "print(\"[Note:] Sila copy video ID dan audio ID dan masukkan di kotak dibawah mengikut urutan:\")\n",
        "MPD_URL_2 = '' #@param {type:\"string\"}\n",
        "!yt-dlp --no-warnings --allow-u -F \"{MPD_URL_2}\"\n",
        "print(\"[Note:] Sila copy video ID dan audio ID dan masukkan di kotak dibawah:\")\n",
        "MPD_URL_3 = '' #@param {type:\"string\"}\n",
        "!yt-dlp --no-warnings --allow-u -F \"{MPD_URL_3}\"\n",
        "print(\"[Note:] Sila copy video ID dan audio ID dan masukkan di kotak dibawah mengikut urutan:\")\n",
        "MPD_URL_4 = '' #@param {type:\"string\"}\n",
        "!yt-dlp --no-warnings --allow-u -F \"{MPD_URL_4}\"\n",
        "print(\"[Note:] Sila copy video ID dan audio ID dan masukkan di kotak dibawah mengikut urutan:\")\n",
        "MPD_URL_5 = '' #@param {type:\"string\"}\n",
        "!yt-dlp --no-warnings --allow-u -F \"{MPD_URL_5}\"\n",
        "print(\"[Note:] Sila copy video ID dan audio ID dan masukkan di kotak dibawah mengikut urutan:\")"
      ],
      "metadata": {
        "cellView": "form",
        "id": "qmnxg8x4E8hj"
      },
      "execution_count": null,
      "outputs": []
    },
    {
      "cell_type": "code",
      "source": [
        "#@markdown <h2>Downloading Video and Audio</h2>\n",
        "from IPython.display import clear_output\n",
        "VIDEO_ID_1 = '' #@param {type:\"string\"}\n",
        "AUDIO_ID_1 = '' #@param {type:\"string\"}\n",
        "VIDEO_ID_2 = '' #@param {type:\"string\"}\n",
        "AUDIO_ID_2 = '' #@param {type:\"string\"}\n",
        "VIDEO_ID_3 = '' #@param {type:\"string\"}\n",
        "AUDIO_ID_3 = '' #@param {type:\"string\"}\n",
        "VIDEO_ID_4 = '' #@param {type:\"string\"}\n",
        "AUDIO_ID_4 = '' #@param {type:\"string\"}\n",
        "VIDEO_ID_5 = '' #@param {type:\"string\"}\n",
        "AUDIO_ID_5 = '' #@param {type:\"string\"}\n",
        "print(\"Downloading video & audio 1.....\")\n",
        "!yt-dlp --no-warnings --allow-u -f \"{VIDEO_ID_1}\" \"{MPD_URL_1}\" -o vid_1.mp4 -N 60\n",
        "clear_output()\n",
        "print(\"Success\")\n",
        "clear_output()\n",
        "!yt-dlp --no-warnings --allow-u -f \"{AUDIO_ID_1}\" \"{MPD_URL_1}\" -o aud_1.m4a -N 5\n",
        "clear_output()\n",
        "print(\"Success\")\n",
        "clear_output()\n",
        "print(\"Downloading video & audio 2.....\")\n",
        "!yt-dlp --no-warnings --allow-u -f \"{VIDEO_ID_2}\" \"{MPD_URL_2}\" -o vid_2.mp4 -N 60\n",
        "clear_output()\n",
        "print(\"Success\")\n",
        "clear_output()\n",
        "!yt-dlp --no-warnings --allow-u -f \"{AUDIO_ID_2}\" \"{MPD_URL_2}\" -o aud_2.m4a -N 5\n",
        "clear_output()\n",
        "print(\"Success\")\n",
        "clear_output()\n",
        "print(\"Downloading video & audio 3.....\")\n",
        "!yt-dlp --no-warnings --allow-u -f \"{VIDEO_ID_3}\" \"{MPD_URL_3}\" -o vid_3.mp4 -N 60\n",
        "clear_output()\n",
        "print(\"Success\")\n",
        "clear_output()\n",
        "!yt-dlp --no-warnings --allow-u -f \"{AUDIO_ID_3}\" \"{MPD_URL_3}\" -o aud_3.m4a -N 5\n",
        "clear_output()\n",
        "print(\"Success\")\n",
        "clear_output()\n",
        "print(\"Downloading video & audio 4.....\")\n",
        "!yt-dlp --no-warnings --allow-u -f \"{VIDEO_ID_4}\" \"{MPD_URL_4}\" -o vid_4.mp4 -N 60\n",
        "clear_output()\n",
        "print(\"Success\")\n",
        "clear_output()\n",
        "!yt-dlp --no-warnings --allow-u -f \"{AUDIO_ID_4}\" \"{MPD_URL_4}\" -o aud_4.m4a -N 5\n",
        "clear_output()\n",
        "print(\"Success\")\n",
        "clear_output()\n",
        "print(\"Downloading video & audio 5.....\")\n",
        "!yt-dlp --no-warnings --allow-u -f \"{VIDEO_ID_5}\" \"{MPD_URL_5}\" -o vid_5.mp4 -N 60\n",
        "clear_output()\n",
        "print(\"Success\")\n",
        "clear_output()\n",
        "!yt-dlp --no-warnings --allow-u -f \"{AUDIO_ID_5}\" \"{MPD_URL_5}\" -o aud_5.m4a -N 5\n",
        "clear_output()\n",
        "print(\"Success\")\n",
        "clear_output()\n",
        "#@markdown <h2>Decrypting and Merge Video+Audio</h2>\n",
        "from IPython.display import clear_output\n",
        "KID_KEY_1 = '' #@param {type:\"string\"}\n",
        "KID_KEY_2 = '' #@param {type:\"string\"}\n",
        "KID_KEY_3 = '' #@param {type:\"string\"}\n",
        "KID_KEY_4 = '' #@param {type:\"string\"}\n",
        "KID_KEY_5 = '' #@param {type:\"string\"}\n",
        "#@markdown <h2>Output Path</h2>\n",
        "OUTPUT_PATH = '' #@param {type:\"string\"}\n",
        "#@markdown <h2>Final File Name</h2>\n",
        "FILENAME_1 = '' #@param {type:\"string\"}\n",
        "FILENAME_2 = '' #@param {type:\"string\"}\n",
        "FILENAME_3 = '' #@param {type:\"string\"}\n",
        "FILENAME_4 = '' #@param {type:\"string\"}\n",
        "FILENAME_5 = '' #@param {type:\"string\"}\n",
        "print(\"Decrypting video and audio 1.....\")\n",
        "!mp4decrypt --show-progress --key \"{KID_KEY_1}\" vid_1.mp4 dec_vid_1.mp4\n",
        "!mp4decrypt --show-progress --key \"{KID_KEY_1}\" aud_1.m4a dec_aud_1.m4a\n",
        "clear_output()\n",
        "print(\"Decrypting video and audio 2.....\")\n",
        "!mp4decrypt --show-progress --key \"{KID_KEY_2}\" vid_2.mp4 dec_vid_2.mp4\n",
        "!mp4decrypt --show-progress --key \"{KID_KEY_2}\" aud_2.m4a dec_aud_2.m4a\n",
        "clear_output()\n",
        "print(\"Decrypting video and audio 3.....\")\n",
        "!mp4decrypt --show-progress --key \"{KID_KEY_3}\" vid_3.mp4 dec_vid_3.mp4\n",
        "!mp4decrypt --show-progress --key \"{KID_KEY_3}\" aud_3.m4a dec_aud_3.m4a\n",
        "clear_output()\n",
        "print(\"Decrypting video and audio 4.....\")\n",
        "!mp4decrypt --show-progress --key \"{KID_KEY_4}\" vid_4.mp4 dec_vid_4.mp4\n",
        "!mp4decrypt --show-progress --key \"{KID_KEY_4}\" aud_4.m4a dec_aud_4.m4a\n",
        "clear_output()\n",
        "print(\"Decrypting video and audio 5.....\")\n",
        "!mp4decrypt --show-progress --key \"{KID_KEY_5}\" vid_5.mp4 dec_vid_5.mp4\n",
        "!mp4decrypt --show-progress --key \"{KID_KEY_5}\" aud_5.m4a dec_aud_5.m4a\n",
        "clear_output()\n",
        "print(\"DONE!\")\n",
        "clear_output()\n",
        "print(\"Merging video and audio 1......\")\n",
        "!ffmpeg -i dec_vid_1.mp4 -i dec_aud_1.m4a -c copy \"{OUTPUT_PATH}/\"\"{FILENAME_1}\"\n",
        "!ffmpeg -i dec_vid_2.mp4 -i dec_aud_2.m4a -c copy \"{OUTPUT_PATH}/\"\"{FILENAME_2}\"\n",
        "!ffmpeg -i dec_vid_3.mp4 -i dec_aud_3.m4a -c copy \"{OUTPUT_PATH}/\"\"{FILENAME_3}\"\n",
        "!ffmpeg -i dec_vid_4.mp4 -i dec_aud_4.m4a -c copy \"{OUTPUT_PATH}/\"\"{FILENAME_4}\"\n",
        "!ffmpeg -i dec_vid_5.mp4 -i dec_aud_5.m4a -c copy \"{OUTPUT_PATH}/\"\"{FILENAME_5}\""
      ],
      "metadata": {
        "cellView": "form",
        "id": "OL6YrGRoFm1C"
      },
      "execution_count": null,
      "outputs": []
    },
    {
      "cell_type": "markdown",
      "source": [
        "# 💪 TODO:\n",
        "# 1.  ̶M̶y̶b̶e̶ ̶n̶e̶x̶t̶ ̶p̶r̶o̶j̶e̶c̶t̶ ̶i̶s̶ ̶1̶-̶c̶l̶i̶c̶k̶ ̶d̶o̶w̶n̶l̶o̶a̶d̶ ̶+̶ ̶d̶e̶c̶r̶y̶p̶t̶ ̶+̶ ̶m̶e̶r̶g̶e̶?̶ DONE!😆\n",
        "# 2. Make simple UI\n",
        "# 📚 Follow me on Facebook for more: [_@pijanify_](https://fb.me/pijanify)\n",
        "# 📦 Repo: [Github](https://github.com/pijanify/yt-dlp-ripping-colab)\n",
        "\n",
        "Notes: Semua ini adalah tujuan pembelajaran sahaja. Pijan tidak akan bertanggungjawab atas sebarang risiko yang dihadapi.\n",
        "\n",
        "Credit: <a href=\"https://github.com/yt-dlp/yt-dlp\">yt-dlp</a>, <a href=\"https://github.com/NanDesuKa-FR/mp4decrypt_mod_linux\">mp4decrypt modded version</a>, and YOU!"
      ],
      "metadata": {
        "id": "DTxRg8cUUgZx"
      }
    }
  ]
}
