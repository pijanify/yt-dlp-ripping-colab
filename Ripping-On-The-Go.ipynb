{
  "nbformat": 4,
  "nbformat_minor": 0,
  "metadata": {
    "colab": {
      "name": "Untitled1.ipynb",
      "provenance": [],
      "authorship_tag": "ABX9TyOXZPDcOWh2AXx4J0cBE0Bs",
      "include_colab_link": true
    },
    "kernelspec": {
      "name": "python3",
      "display_name": "Python 3"
    },
    "language_info": {
      "name": "python"
    }
  },
  "cells": [
    {
      "cell_type": "markdown",
      "metadata": {
        "id": "view-in-github",
        "colab_type": "text"
      },
      "source": [
        "<a href=\"https://colab.research.google.com/github/pijanify/yt-dlp-ripping-colab/blob/main/Ripping-On-The-Go.ipynb\" target=\"_parent\"><img src=\"https://colab.research.google.com/assets/colab-badge.svg\" alt=\"Open In Colab\"/></a>"
      ]
    },
    {
      "cell_type": "markdown",
      "source": [
        "#__1. Mount GDrive to /content/drive__"
      ],
      "metadata": {
        "id": "ZTaCEMLJK--l"
      }
    },
    {
      "cell_type": "code",
      "source": [
        "#@markdown <br><center><img src='https://upload.wikimedia.org/wikipedia/commons/thumb/d/da/Google_Drive_logo.png/600px-Google_Drive_logo.png' height=\"50\" alt=\"Gdrive-logo\"/></center>\n",
        "#@markdown <center><h3>Mount GDrive to /content/drive</h3></center><br>\n",
        "MODE = \"MOUNT\" #@param [\"MOUNT\", \"UNMOUNT\"]\n",
        "#Mount your Gdrive! \n",
        "from google.colab import drive\n",
        "drive.mount._DEBUG = False\n",
        "if MODE == \"MOUNT\":\n",
        "  drive.mount('/content/drive', force_remount=True)\n",
        "elif MODE == \"UNMOUNT\":\n",
        "  try:\n",
        "    drive.flush_and_unmount()\n",
        "  except ValueError:\n",
        "    pass\n",
        "  get_ipython().system_raw(\"rm -rf /root/.config/Google/DriveFS\")"
      ],
      "metadata": {
        "cellView": "form",
        "id": "9eK6dGNhLINF"
      },
      "execution_count": null,
      "outputs": []
    },
    {
      "cell_type": "markdown",
      "source": [
        "#__2. Install yt-dlp dan mp4decrypt__"
      ],
      "metadata": {
        "id": "acfERKfRLhg0"
      }
    },
    {
      "cell_type": "code",
      "source": [
        "!sudo curl -L https://github.com/yt-dlp/yt-dlp/releases/latest/download/yt-dlp -o /usr/local/bin/yt-dlp\n",
        "!sudo chmod a+rx /usr/local/bin/yt-dlp\n",
        "!sudo curl -L https://github.com/pijanify/yt-dlp-ripping-colab/releases/download/v1.0/mp4encrypt -o /usr/local/bin/mp4decrypt\n",
        "!sudo chmod a+rx /usr/local/bin/mp4decrypt"
      ],
      "metadata": {
        "id": "U0TqaEgDLtor"
      },
      "execution_count": null,
      "outputs": []
    },
    {
      "cell_type": "markdown",
      "source": [
        "#__3. Sedia untuk ripping__"
      ],
      "metadata": {
        "id": "Cl63jS1QPOct"
      }
    },
    {
      "cell_type": "code",
      "source": [
        "#@markdown <h1>Extract MPD manifest info <br></h1>\n",
        "#@markdown Masukkan detail dibawah:</center>\n",
        "\n",
        "MPD_URL = 'https://link.com/manifest.mpd' #@param {type:\"string\"}\n",
        "!python /usr/local/bin/yt-dlp \"{MPD_URL}\" -F --allow-unplayable-formats\n"
      ],
      "metadata": {
        "cellView": "form",
        "id": "G99yUqRoPdK1"
      },
      "execution_count": null,
      "outputs": []
    },
    {
      "cell_type": "code",
      "source": [
        "#@markdown <h1>Download manifest<br></h1>\n",
        "#@markdown Masukkan detail dibawah:</center>\n",
        "\n",
        "MPD = 'https://link-com/manifest.mpd' #@param {type:\"string\"}\n",
        "FileName = 'filename.extension (Check output MPD manifest, mp4 untuk video, .aac untuk audio, .eac3 untuk DD' #@param {type:\"string\"}\n",
        "OutputPath = 'Tempat simpan output dalam Google Drive anda, biasanya root director adalah /content/drive/MyDrive/' #@param {type:\"string\"}\n",
        "Codec = 'video_avc1_1 @ audio_ENG_mp4a_1 @ audio_DOLBY_ec-3 (Pilih ikut pada manifest - Kena download video codec dan audio codec setiap command)' #@param {type:\"string\"}\n",
        "\n",
        "!python /usr/local/bin/yt-dlp --allow-unplayable-formats -f {Codec} {MPD} -o {FileName} --path \"{OutputPath}\""
      ],
      "metadata": {
        "cellView": "form",
        "id": "HM0Gla0gRCP0"
      },
      "execution_count": null,
      "outputs": []
    }
  ]
}