{
  "nbformat": 4,
  "nbformat_minor": 0,
  "metadata": {
    "colab": {
      "name": "Ripping-On-The-Go-v4.ipynb",
      "provenance": [],
      "authorship_tag": "ABX9TyNwfx6qgaoZ8sbGb3ZKQD3X",
      "include_colab_link": true
    },
    "kernelspec": {
      "name": "python3",
      "display_name": "Python 3"
    },
    "language_info": {
      "name": "python"
    }
  },
  "cells": [
    {
      "cell_type": "markdown",
      "metadata": {
        "id": "view-in-github",
        "colab_type": "text"
      },
      "source": [
        "<a href=\"https://colab.research.google.com/github/pijanify/yt-dlp-ripping-colab/blob/main/Ripping_On_The_Go_v4.ipynb\" target=\"_parent\"><img src=\"https://colab.research.google.com/assets/colab-badge.svg\" alt=\"Open In Colab\"/></a>"
      ]
    },
    {
      "cell_type": "markdown",
      "source": [
        "#__1. Mount GDrive to /content/drive__"
      ],
      "metadata": {
        "id": "DUWyFXuvKYZc"
      }
    },
    {
      "cell_type": "code",
      "execution_count": null,
      "metadata": {
        "cellView": "form",
        "id": "1bLFP8YTKJVJ"
      },
      "outputs": [],
      "source": [
        "#@markdown <br><img src='https://upload.wikimedia.org/wikipedia/commons/thumb/d/da/Google_Drive_logo.png/600px-Google_Drive_logo.png' height=\"50\" alt=\"Gdrive-logo\"/></center>\n",
        "#@markdown <h3>Mount GDrive to /content/drive</h3><br>\n",
        "MODE = \"MOUNT\" #@param [\"MOUNT\", \"UNMOUNT\"]\n",
        "#Mount your Gdrive! \n",
        "from google.colab import drive\n",
        "drive.mount._DEBUG = False\n",
        "if MODE == \"MOUNT\":\n",
        "  drive.mount('/content/drive', force_remount=True)\n",
        "elif MODE == \"UNMOUNT\":\n",
        "  try:\n",
        "    drive.flush_and_unmount()\n",
        "  except ValueError:\n",
        "    pass\n",
        "  get_ipython().system_raw(\"rm -rf /root/.config/Google/DriveFS\")"
      ]
    },
    {
      "cell_type": "markdown",
      "source": [
        "#__2. Install yt-dlp dan mp4decrypt__"
      ],
      "metadata": {
        "id": "y1ncQ6DUKg25"
      }
    },
    {
      "cell_type": "code",
      "source": [
        "#@markdown <h1><-- Klik butang ni untuk install automatik<br></h1>\n",
        "!sudo curl -L https://github.com/yt-dlp/yt-dlp/releases/latest/download/yt-dlp -o /usr/local/bin/yt-dlp\n",
        "!sudo chmod a+rx /usr/local/bin/yt-dlp\n",
        "!sudo curl -L https://github.com/pijanify/yt-dlp-ripping-colab/releases/download/v1.1/mp4decrypt -o /usr/local/bin/mp4decrypt\n",
        "!sudo chmod a+rx /usr/local/bin/mp4decrypt"
      ],
      "metadata": {
        "cellView": "form",
        "id": "MglsqoRRKfWz"
      },
      "execution_count": null,
      "outputs": []
    },
    {
      "cell_type": "markdown",
      "source": [
        "#__3. Sedia untuk ripping__"
      ],
      "metadata": {
        "id": "hbXouqOIK2Fb"
      }
    },
    {
      "cell_type": "code",
      "source": [
        "#@markdown <h1>Part 1: Extracting MPD manifest info <br></h1>\n",
        "#@markdown Masukkan detail dibawah:</center>\n",
        "\n",
        "MPD_URL = 'https://vod-playback.sooka.my/edash/p/3089633/sp/308963300/serveFlavor/entryId/1_6fk7rsy0/v/1/ev/10/flavorId/1_,13a2jyb0,wnjkbx1d,htbvyezz,5ets4x6j,m9tnmymb,597qqjg0,52n3ognp,ni0uprma,m2kx31ae,/forceproxy/true/name/a.mp4.urlset/manifest.mpd' #@param {type:\"string\"}\n",
        "!python /usr/local/bin/yt-dlp \"{MPD_URL}\" -F --allow-unplayable-formats\n"
      ],
      "metadata": {
        "cellView": "form",
        "id": "veFcMcFwK1yJ"
      },
      "execution_count": null,
      "outputs": []
    },
    {
      "cell_type": "code",
      "source": [
        "#@markdown <h1>Part 2: Downloading manifest<br></h1>\n",
        "#@markdown Masukkan detail dibawah:</center>\n",
        "\n",
        "MPD_URL = 'https://vod-playback.sooka.my/edash/p/3089633/sp/308963300/serveFlavor/entryId/1_6fk7rsy0/v/1/ev/10/flavorId/1_,13a2jyb0,wnjkbx1d,htbvyezz,5ets4x6j,m9tnmymb,597qqjg0,52n3ognp,ni0uprma,m2kx31ae,/forceproxy/true/name/a.mp4.urlset/manifest.mpd' #@param {type:\"string\"}\n",
        "VideoFileName = 'HantuBoncengEncrypted.mp4' #@param {type:\"string\"}\n",
        "AudioFileName = 'HantuBoncengEncrypted.aac' #@param {type:\"string\"}\n",
        "OutputPath = '/content/drive/MyDrive/' #@param {type:\"string\"}\n",
        "Video_ID = 'f6-v1-x3' #@param {type:\"string\"}\n",
        "Audio_ID = 'f4-a1-x3' #@param {type:\"string\"}\n",
        "\n",
        "!python /usr/local/bin/yt-dlp --progress --allow-unplayable-formats -f {Video_ID} {MPD_URL} -o {VideoFileName} --path \"{OutputPath}\"\n",
        "!python /usr/local/bin/yt-dlp --progress --allow-unplayable-formats -f {Audio_ID} {MPD_URL} -o {AudioFileName} --path \"{OutputPath}\""
      ],
      "metadata": {
        "cellView": "form",
        "id": "hxoChMdNLBYT"
      },
      "execution_count": null,
      "outputs": []
    },
    {
      "cell_type": "markdown",
      "source": [
        "#__4. Decrypting video/audio__"
      ],
      "metadata": {
        "id": "U1C5roYkLFQL"
      }
    },
    {
      "cell_type": "code",
      "source": [
        "#@markdown Masukkan detail dibawah:\n",
        "KIDKEY = '5fd8c641fdc091d5e4934de6247a876c:8987f7d102c1d5e8d018809845453b5d' #@param {type:\"string\"}\n",
        "EncryptedVideoPath = '/content/drive/MyDrive/HantuBoncengEncrypted.mp4' #@param {type:\"string\"}\n",
        "EncryptedAudioPath = '/content/drive/MyDrive/HantuBoncengEncrypted.aac' #@param {type:\"string\"}\n",
        "DecryptedVideoPath = 'HantuBoncengDecrypted.mp4' #@param {type:\"string\"}\n",
        "DecryptedAudioPath = 'HantuBoncengDecrypted.aac' #@param {type:\"string\"}\n",
        "OutputPath = '/content/drive/MyDrive/'  #@param {type:\"string\"}\n",
        "import os\n",
        "os.chdir(f\"{OutputPath}\")\n",
        "\n",
        "!mp4decrypt  --show-progress --key '{KIDKEY}' {EncryptedVideoPath} \"{DecryptedVideoPath}\"\n",
        "!mp4decrypt  --show-progress --key '{KIDKEY}' {EncryptedAudioPath} \"{DecryptedAudioPath}\""
      ],
      "metadata": {
        "cellView": "form",
        "id": "btcwCx7gLIvD"
      },
      "execution_count": null,
      "outputs": []
    },
    {
      "cell_type": "markdown",
      "source": [
        "#__5. Merging video/audio__"
      ],
      "metadata": {
        "id": "LSm1aLOpLLoD"
      }
    },
    {
      "cell_type": "code",
      "source": [
        "#@markdown Masukkan detail dibawah:\n",
        "DecryptedVideoPath = '/content/drive/MyDrive/HantuBoncengDecrypted.mp4' #@param {type:\"string\"}\n",
        "DecryptedAudioPath = '/content/drive/MyDrive/HantuBoncengDecrypted.aac' #@param {type:\"string\"}\n",
        "#@markdown <h2>Final file</h2>\n",
        "FileName = 'Hantu.Bonceng.2.0.2021.1080p.SOOKA.WEB-DL.H264.AAC-NOGRP.mkv' #@param {type:\"string\"}\n",
        "OutputPath = '/content/drive/MyDrive/' #@param {type:\"string\"}\n",
        "import os\n",
        "os.chdir(f\"{OutputPath}\")\n",
        "!ffmpeg -i {DecryptedVideoPath} -i {DecryptedAudioPath} -c copy {FileName}"
      ],
      "metadata": {
        "cellView": "form",
        "id": "lN47y-P4LMnz"
      },
      "execution_count": null,
      "outputs": []
    },
    {
      "cell_type": "markdown",
      "source": [
        "# 💪 TODO: Mybe next project is 1-click download + decrypt + merge? 😆\n",
        "# 📚 Follow me on Facebook for more: [_@pijanify_](https://fb.me/pijanify)\n",
        "# 📦 Repo: [Github](https://github.com/pijanify/yt-dlp-ripping-colab)\n",
        "\n",
        "Notes: Semua ini adalah tujuan pembelajaran sahaja. Pijan tidak akan bertanggungjawab atas sebarang risiko yang dihadapi.\n",
        "\n",
        "Credit: <a href=\"https://github.com/yt-dlp/yt-dlp\">yt-dlp</a>, <a href=\"https://github.com/NanDesuKa-FR/mp4decrypt_mod_linux\">mp4decrypt modded version</a>, and YOU!"
      ],
      "metadata": {
        "id": "lLgcyKWeLSjj"
      }
    }
  ]
}