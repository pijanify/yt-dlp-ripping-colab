{
  "nbformat": 4,
  "nbformat_minor": 0,
  "metadata": {
    "colab": {
      "name": "Ripping On The Go v5",
      "provenance": [],
      "collapsed_sections": [
        "NTV5elpk0HrE",
        "L9EV8sF5z_PL",
        "iq9uctLVzsjD",
        "wfIQnt6uz1AT"
      ],
      "authorship_tag": "ABX9TyNo/d8DSzaFqYNq6kov/2Ea",
      "include_colab_link": true
    },
    "kernelspec": {
      "name": "python3",
      "display_name": "Python 3"
    },
    "language_info": {
      "name": "python"
    }
  },
  "cells": [
    {
      "cell_type": "markdown",
      "metadata": {
        "id": "view-in-github",
        "colab_type": "text"
      },
      "source": [
        "<a href=\"https://colab.research.google.com/github/pijanify/yt-dlp-ripping-colab/blob/main/Ripping_On_The_Go_v5.ipynb\" target=\"_parent\"><img src=\"https://colab.research.google.com/assets/colab-badge.svg\" alt=\"Open In Colab\"/></a>"
      ]
    },
    {
      "cell_type": "markdown",
      "source": [
        "#__Mount Google Drive dan install ROTG tools.__"
      ],
      "metadata": {
        "id": "NTV5elpk0HrE"
      }
    },
    {
      "cell_type": "code",
      "source": [
        "from google.colab import drive\n",
        "drive.mount('/content/drive')\n",
        "!sudo apt update\n",
        "!sudo curl -L https://github.com/yt-dlp/yt-dlp/releases/latest/download/yt-dlp -o /usr/local/bin/yt-dlp\n",
        "!sudo chmod a+rx /usr/local/bin/yt-dlp\n",
        "!sudo curl -L https://github.com/pijanify/yt-dlp-ripping-colab/releases/download/v1.1/mp4decrypt -o /usr/local/bin/mp4decrypt\n",
        "!sudo chmod a+rx /usr/local/bin/mp4decrypt\n",
        "!sudo apt install ffmpeg\n",
        "!sudo apt -y install aria2\n"
      ],
      "metadata": {
        "id": "jLpFlRJ3dZEs"
      },
      "execution_count": null,
      "outputs": []
    },
    {
      "cell_type": "markdown",
      "source": [
        "#__1-CLICK RIPPING__"
      ],
      "metadata": {
        "id": "L9EV8sF5z_PL"
      }
    },
    {
      "cell_type": "code",
      "source": [
        "MPD_URL = 'https://www.link.com/index.mpd' #@param {type:\"string\"}\n",
        "!yt-dlp --allow-u -F \"{MPD_URL}\""
      ],
      "metadata": {
        "cellView": "form",
        "id": "CUi2j7dKeamT"
      },
      "execution_count": null,
      "outputs": []
    },
    {
      "cell_type": "code",
      "source": [
        "VIDEO_ID = '' #@param {type:\"string\"}\n",
        "AUDIO_ID = '' #@param {type:\"string\"}\n",
        "VIDEO_OUTPUT = 'default.mp4' #@param {type:\"string\"}\n",
        "AUDIO_OUTPUT = 'default.aac' #@param {type:\"string\"}\n",
        "VIDEO_DECRYPT_OUTPUT = 'dec.mp4' #@param {type:\"string\"}\n",
        "AUDIO_DECRYPT_OUTPUT = 'dec.aac' #@param {type:\"string\"}\n",
        "KID_KEY = 'kid:key' #@param {type:\"string\"}\n",
        "FINAL_OUTPUT = 'Pijanify.1080p.WEB-DL.DDP5.1.H264-NOGRP.mp4' #@param {type:\"string\"}\n",
        "!yt-dlp --allow-u -f \"{VIDEO_ID}\" \"{MPD_URL}\" -o \"{VIDEO_OUTPUT}\" --downloader aria2c\n",
        "!yt-dlp --allow-u -f \"{AUDIO_ID}\" \"{MPD_URL}\" -o \"{AUDIO_OUTPUT}\" --downloader aria2c\n",
        "!mp4decrypt --show-progress --key \"{KID_KEY}\" \"{VIDEO_OUTPUT}\" \"{VIDEO_DECRYPT_OUTPUT}\"\n",
        "!mp4decrypt --show-progress --key \"{KID_KEY}\" \"{AUDIO_OUTPUT}\" \"{AUDIO_DECRYPT_OUTPUT}\"\n",
        "!ffmpeg -i \"{VIDEO_DECRYPT_OUTPUT}\" -i \"{AUDIO_DECRYPT_OUTPUT}\" -c copy \"{FINAL_OUTPUT}\""
      ],
      "metadata": {
        "cellView": "form",
        "id": "3h_k8BLFgzfN"
      },
      "execution_count": null,
      "outputs": []
    },
    {
      "cell_type": "markdown",
      "source": [
        "#__MUXING SUBTITLE__"
      ],
      "metadata": {
        "id": "iq9uctLVzsjD"
      }
    },
    {
      "cell_type": "code",
      "source": [
        "#@markdown <h3>Mux 1 subtitle</h3>\n",
        "SUBTITLE = 'eng.srt' #@param {type:\"string\"}\n",
        "LANGUAGE = 'eng' #@param {type:\"string\"}\n",
        "OUTPUT = 'Pijanify.1080p.WEB-DL.AAC.H264-PJNFY.mkv' #@param {type:\"string\"}\n",
        "!ffmpeg -i \"{FINAL_OUTPUT}\" -i \"{SUBTITLE}\" -map 0 -map 1:s -c copy -metadata:s:s:0 language=\"{LANGUAGE}\" \"{OUTPUT}\""
      ],
      "metadata": {
        "cellView": "form",
        "id": "kFC4VJ8riZga"
      },
      "execution_count": null,
      "outputs": []
    },
    {
      "cell_type": "code",
      "source": [
        "#@markdown <h3>Mux 2 subtitles</h3>\n",
        "SUBTITLE_01 = 'eng.srt' #@param {type:\"string\"}\n",
        "SUBTITLE_02 = 'may.srt' #@param {type:\"string\"}\n",
        "LANGUAGE_01 = 'eng' #@param {type:\"string\"}\n",
        "LANGUAGE_02 = 'may' #@param {type:\"string\"}\n",
        "OUTPUT = 'Pijanify.1080p.WEB-DL.AAC.H264-PJNFY.mkv' #@param {type:\"string\"}\n",
        "!ffmpeg -i \"{FINAL_OUTPUT}\" -i \"{SUBTITLE_01}\" -i \"{SUBTITLE_02}\" -map 0 -map 1:s -map 2:s -c copy -metadata:s:s:0 language=\"{LANGUAGE_01}\" -metadata:s:s:1 language=\"{LANGUAGE_02}\" \"{OUT_PUT}\""
      ],
      "metadata": {
        "cellView": "form",
        "id": "0sxvLNK-wp6F"
      },
      "execution_count": null,
      "outputs": []
    },
    {
      "cell_type": "code",
      "source": [
        "#@markdown <h3>Mux 3 subtitles</h3>\n",
        "SUBTITLE_01 = 'eng.srt' #@param {type:\"string\"}\n",
        "SUBTITLE_02 = 'may.srt' #@param {type:\"string\"}\n",
        "SUBTITLE_03 = 'chi.srt' #@param {type:\"string\"}\n",
        "LANGUAGE_01 = 'eng' #@param {type:\"string\"}\n",
        "LANGUAGE_02 = 'may' #@param {type:\"string\"}\n",
        "LANGUAGE_03 = 'chi' #@param {type:\"string\"}\n",
        "OUTPUT = 'Pijanify.1080p.WEB-DL.AAC.H264-PJNFY.mkv' #@param {type:\"string\"}\n",
        "!ffmpeg -i \"{FINAL_OUTPUT}\" -i \"{SUBTITLE_01}\" -i \"{SUBTITLE_02}\" -i \"{SUBTITLE_03}\" -map 0 -map 1:s -map 2:s -map 3:s -c copy -metadata:s:s:0 language=\"{LANGUAGE_01}\" -metadata:s:s:1 language=\"{LANGUAGE_02}\" -metadata:s:s:2 language=\"{LANGUAGE_03}\" \"{OUTPUT}\""
      ],
      "metadata": {
        "cellView": "form",
        "id": "9hlc91vdyf3g"
      },
      "execution_count": null,
      "outputs": []
    },
    {
      "cell_type": "markdown",
      "source": [
        "#__COPY @ MOVE OUTPUT TO NEW PATH__"
      ],
      "metadata": {
        "id": "wfIQnt6uz1AT"
      }
    },
    {
      "cell_type": "code",
      "source": [
        "#@markdown <h3>Copy output (No Subtitle) from root to new path</h3>\n",
        "NEW_PATH = '/content/drive/MyDrive' #@param {type:\"string\"}\n",
        "!cp -r \"{FINAL_OUTPUT}\" \"{NEW_PATH}\""
      ],
      "metadata": {
        "cellView": "form",
        "id": "9pO9vlBnlhEI"
      },
      "execution_count": null,
      "outputs": []
    },
    {
      "cell_type": "code",
      "source": [
        "#@markdown <h3>Copy output (Muxed subtitle) from root to new path</h3>\n",
        "NEW_PATH = '/content/drive/MyDrive' #@param {type:\"string\"}\n",
        "!cp -r \"{OUTPUT}\" \"{NEW_PATH}\""
      ],
      "metadata": {
        "cellView": "form",
        "id": "LRYLASfKxZfr"
      },
      "execution_count": null,
      "outputs": []
    },
    {
      "cell_type": "code",
      "source": [
        "#@markdown <h3>Move output (No Subtitle) from root to new path</h3>\n",
        "NEW_PATH = '/content/drive/MyDrive' #@param {type:\"string\"}\n",
        "!mv \"{FINAL_OUTPUT}\" \"{NEW_PATH}\""
      ],
      "metadata": {
        "cellView": "form",
        "id": "yka-d8amxkxM"
      },
      "execution_count": null,
      "outputs": []
    },
    {
      "cell_type": "code",
      "source": [
        "#@markdown <h3>Move output (Muxed subtitle) from root to new path</h3>\n",
        "NEW_PATH = '/content/drive/MyDrive' #@param {type:\"string\"}\n",
        "!cp -r \"{OUTPUT}\" \"{NEW_PATH}\""
      ],
      "metadata": {
        "cellView": "form",
        "id": "p9XWjoxqxsLD"
      },
      "execution_count": null,
      "outputs": []
    },
    {
      "cell_type": "markdown",
      "source": [
        "#__Upload to Gofile.io__"
      ],
      "metadata": {
        "id": "9nkMynhEzgyL"
      }
    },
    {
      "cell_type": "code",
      "source": [
        "#@markdown <h3>Upload to Gofile.io</h3>\n",
        "!curl https://api.gofile.io/getServer"
      ],
      "metadata": {
        "cellView": "form",
        "id": "s6fWOv96nCs_"
      },
      "execution_count": null,
      "outputs": []
    },
    {
      "cell_type": "code",
      "source": [
        "#@markdown <h3>Upload No Subtitle</h3>\n",
        "SERVER = 'store1' #@param {type:\"string\"}\n",
        "!curl -F file=@\"{FINAL_OUTPUT}\" https://\"{SERVER}\".gofile.io/uploadFile"
      ],
      "metadata": {
        "cellView": "form",
        "id": "5RHzCxb_noHX"
      },
      "execution_count": null,
      "outputs": []
    },
    {
      "cell_type": "code",
      "source": [
        "#@markdown <h3>Upload Muxed Subtitle</h3>\n",
        "SERVER = 'store1' #@param {type:\"string\"}\n",
        "!curl -F file=@\"{OUTPUT}\" https://\"{SERVER}\".gofile.io/uploadFile"
      ],
      "metadata": {
        "cellView": "form",
        "id": "fHbmFmMQyCmL"
      },
      "execution_count": null,
      "outputs": []
    },
    {
      "cell_type": "markdown",
      "source": [
        "# 💪 TODO:  ̶M̶y̶b̶e̶ ̶n̶e̶x̶t̶ ̶p̶r̶o̶j̶e̶c̶t̶ ̶i̶s̶ ̶1̶-̶c̶l̶i̶c̶k̶ ̶d̶o̶w̶n̶l̶o̶a̶d̶ ̶+̶ ̶d̶e̶c̶r̶y̶p̶t̶ ̶+̶ ̶m̶e̶r̶g̶e̶?̶ DONE!😆\n",
        "# 📚 Follow me on Facebook for more: [_@pijanify_](https://fb.me/pijanify)\n",
        "# 📦 Repo: [Github](https://github.com/pijanify/yt-dlp-ripping-colab)\n",
        "\n",
        "Notes: Semua ini adalah tujuan pembelajaran sahaja. Pijan tidak akan bertanggungjawab atas sebarang risiko yang dihadapi.\n",
        "\n",
        "Credit: <a href=\"https://github.com/yt-dlp/yt-dlp\">yt-dlp</a>, <a href=\"https://github.com/NanDesuKa-FR/mp4decrypt_mod_linux\">mp4decrypt modded version</a>, and YOU!"
      ],
      "metadata": {
        "id": "A0DtIpJP0ri6"
      }
    }
  ]
}
