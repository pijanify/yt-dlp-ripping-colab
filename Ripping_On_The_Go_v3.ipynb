{
  "nbformat": 4,
  "nbformat_minor": 0,
  "metadata": {
    "colab": {
      "name": "Ripping-On-The-Go-v3.ipynb",
      "provenance": [],
      "authorship_tag": "ABX9TyPwHmNrvmA6xNFAY1KRXjeL",
      "include_colab_link": true
    },
    "kernelspec": {
      "name": "python3",
      "display_name": "Python 3"
    },
    "language_info": {
      "name": "python"
    }
  },
  "cells": [
    {
      "cell_type": "markdown",
      "metadata": {
        "id": "view-in-github",
        "colab_type": "text"
      },
      "source": [
        "<a href=\"https://colab.research.google.com/github/pijanify/yt-dlp-ripping-colab/blob/main/Ripping_On_The_Go_v3.ipynb\" target=\"_parent\"><img src=\"https://colab.research.google.com/assets/colab-badge.svg\" alt=\"Open In Colab\"/></a>"
      ]
    },
    {
      "cell_type": "markdown",
      "source": [
        "#__1. Mount GDrive to /content/drive__"
      ],
      "metadata": {
        "id": "uyuUHIygv0QS"
      }
    },
    {
      "cell_type": "code",
      "execution_count": null,
      "metadata": {
        "cellView": "form",
        "id": "MJbSbkDyvuHF"
      },
      "outputs": [],
      "source": [
        "#@markdown <br><img src='https://upload.wikimedia.org/wikipedia/commons/thumb/d/da/Google_Drive_logo.png/600px-Google_Drive_logo.png' height=\"50\" alt=\"Gdrive-logo\"/></center>\n",
        "#@markdown <h3>Mount GDrive to /content/drive</h3><br>\n",
        "MODE = \"MOUNT\" #@param [\"MOUNT\", \"UNMOUNT\"]\n",
        "#Mount your Gdrive! \n",
        "from google.colab import drive\n",
        "drive.mount._DEBUG = False\n",
        "if MODE == \"MOUNT\":\n",
        "  drive.mount('/content/drive', force_remount=True)\n",
        "elif MODE == \"UNMOUNT\":\n",
        "  try:\n",
        "    drive.flush_and_unmount()\n",
        "  except ValueError:\n",
        "    pass\n",
        "  get_ipython().system_raw(\"rm -rf /root/.config/Google/DriveFS\")"
      ]
    },
    {
      "cell_type": "markdown",
      "source": [
        "#__2. Install yt-dlp dan mp4decrypt__"
      ],
      "metadata": {
        "id": "pUXIbO2cv5Gy"
      }
    },
    {
      "cell_type": "code",
      "source": [
        "#@markdown <h1><-- Klik butang ni untuk install automatik<br></h1>\n",
        "!sudo curl -L https://github.com/yt-dlp/yt-dlp/releases/latest/download/yt-dlp -o /usr/local/bin/yt-dlp\n",
        "!sudo chmod a+rx /usr/local/bin/yt-dlp\n",
        "!sudo curl -L https://github.com/pijanify/yt-dlp-ripping-colab/releases/download/v1.0/mp4decrypt -o /usr/local/bin/mp4decrypt\n",
        "!sudo chmod a+rx /usr/local/bin/mp4decrypt"
      ],
      "metadata": {
        "cellView": "form",
        "id": "oJ0EQ9H9v6IR"
      },
      "execution_count": null,
      "outputs": []
    },
    {
      "cell_type": "markdown",
      "source": [
        "#__3. Sedia untuk ripping__"
      ],
      "metadata": {
        "id": "7lOFGHc1wAuh"
      }
    },
    {
      "cell_type": "code",
      "source": [
        "#@markdown <h1>Part 1: Extracting MPD manifest info <br></h1>\n",
        "#@markdown Masukkan detail dibawah:</center>\n",
        "\n",
        "MPD_URL = 'https://vod-playback.sooka.my/edash/p/3089633/sp/308963300/serveFlavor/entryId/1_6fk7rsy0/v/1/ev/10/flavorId/1_,13a2jyb0,wnjkbx1d,htbvyezz,5ets4x6j,m9tnmymb,597qqjg0,52n3ognp,ni0uprma,m2kx31ae,/forceproxy/true/name/a.mp4.urlset/manifest.mpd' #@param {type:\"string\"}\n",
        "!python /usr/local/bin/yt-dlp \"{MPD_URL}\" -F --allow-unplayable-formats\n"
      ],
      "metadata": {
        "cellView": "form",
        "id": "HyaVcHKLwCaJ"
      },
      "execution_count": null,
      "outputs": []
    },
    {
      "cell_type": "code",
      "source": [
        "#@markdown <h1>Part 2: Downloading manifest<br></h1>\n",
        "#@markdown Masukkan detail dibawah:</center>\n",
        "\n",
        "MPD = 'https://vod-playback.sooka.my/edash/p/3089633/sp/308963300/serveFlavor/entryId/1_6fk7rsy0/v/1/ev/10/flavorId/1_,13a2jyb0,wnjkbx1d,htbvyezz,5ets4x6j,m9tnmymb,597qqjg0,52n3ognp,ni0uprma,m2kx31ae,/forceproxy/true/name/a.mp4.urlset/manifest.mpd' #@param {type:\"string\"}\n",
        "FileName = 'HantuBoncengEncrypted.mp4' #@param {type:\"string\"}\n",
        "OutputPath = '/content/drive/MyDrive/' #@param {type:\"string\"}\n",
        "Codec = 'f6-v1-x3' #@param {type:\"string\"}\n",
        "\n",
        "!python /usr/local/bin/yt-dlp --allow-unplayable-formats -f {Codec} {MPD} -o {FileName} --path \"{OutputPath}\""
      ],
      "metadata": {
        "cellView": "form",
        "id": "9JMD1pxuwWgh"
      },
      "execution_count": null,
      "outputs": []
    },
    {
      "cell_type": "markdown",
      "source": [
        "#__4. Decrypting video/audio__"
      ],
      "metadata": {
        "id": "qjdV_e1iwZsX"
      }
    },
    {
      "cell_type": "code",
      "source": [
        "#@markdown Masukkan detail dibawah:\n",
        "KIDKEY = '5fd8c641fdc091d5e4934de6247a876c:8987f7d102c1d5e8d018809845453b5d' #@param {type:\"string\"}\n",
        "EncryptedSourcePath = '/content/drive/MyDrive/HantuBoncengEncrypted.mp4' #@param {type:\"string\"}\n",
        "DecryptedSourcePath = '/content/drive/MyDrive/HantuBoncengDecrypted.mp4'  #@param {type:\"string\"}\n",
        "\n",
        "\n",
        "!mp4decrypt --key '{KIDKEY}' {EncryptedSourcePath} {DecryptedSourcePath}"
      ],
      "metadata": {
        "id": "sj0-oIZ1wbUB"
      },
      "execution_count": null,
      "outputs": []
    },
    {
      "cell_type": "markdown",
      "source": [
        "#__5. Merging video/audio -- IN DEVELOPMENT__"
      ],
      "metadata": {
        "id": "3RnBKZPrw725"
      }
    },
    {
      "cell_type": "markdown",
      "source": [
        "# 📚 Follow me on Facebook for more: [_@pijanify_](https://fb.me/pijanify)\n",
        "# 📦 Repo: [Github](https://github.com/pijanify/yt-dlp-ripping-colab)"
      ],
      "metadata": {
        "id": "BKStphzYxLzB"
      }
    }
  ]
}